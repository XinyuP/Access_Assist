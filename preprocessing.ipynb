{
 "cells": [
  {
   "cell_type": "code",
   "execution_count": 16,
   "metadata": {},
   "outputs": [],
   "source": [
    "import pandas as pd\n",
    "import numpy as np\n",
    "\n",
    "from matplotlib import pyplot as plt\n",
    "import seaborn as sns\n",
    "sns.set_palette(sns.color_palette(\"Spectral\"))\n",
    "sns.set_style(\"darkgrid\")\n",
    "\n",
    "import matplotlib as mpl\n",
    "mpl.rcParams['figure.dpi'] = 200\n",
    "mpl.rcParams[\"axes.labelsize\"] = 15\n",
    "pd.set_option('display.max_columns', 999)\n",
    "\n",
    "import time"
   ]
  },
  {
   "cell_type": "code",
   "execution_count": 3,
   "metadata": {},
   "outputs": [],
   "source": [
    "df = pd.read_csv(\"data/index.csv\")"
   ]
  },
  {
   "cell_type": "code",
   "execution_count": 17,
   "metadata": {},
   "outputs": [],
   "source": [
    "df[\"address\"]\n",
    "\n",
    "from geopy.geocoders import Nominatim\n",
    "\n",
    "# create a Nominatim object\n",
    "geolocator = Nominatim(user_agent=\"AccessAssist2\")\n"
   ]
  },
  {
   "cell_type": "code",
   "execution_count": 39,
   "metadata": {},
   "outputs": [],
   "source": [
    "# Janky ass shit because nomatim is limiting api calls\n",
    "lats = {i:None for i in df[\"address\"].values}\n",
    "lons = {i:None for i in df[\"address\"].values}"
   ]
  },
  {
   "cell_type": "code",
   "execution_count": 47,
   "metadata": {},
   "outputs": [
    {
     "name": "stdout",
     "output_type": "stream",
     "text": [
      "1000 Washington St Ste 310, Boston, MA 02118\n",
      "1000 Washington St Ste 310, Boston, MA 02118\n",
      "85 E Newton St, Boston, MA 02118\n",
      "addr returned\n"
     ]
    }
   ],
   "source": [
    "def get_lat_lon(address: str):\n",
    "    location = geolocator.geocode(address)\n",
    "    print(\"addr returned\")\n",
    "    time.sleep(1)\n",
    "    if location == None:\n",
    "        return [np.nan, np.nan]\n",
    "    return [location.latitude, location.longitude]\n",
    "\n",
    "error_state = False\n",
    "\n",
    "while None in lats.values():\n",
    "    try:\n",
    "        for addr in lats:\n",
    "            if lats[addr] == None:\n",
    "                coords = get_lat_lon(addr)\n",
    "                lats[addr] = coords[0]\n",
    "                lons[addr] = coords[1]\n",
    "                error_state = False\n",
    "    except TimeoutError:\n",
    "        if error_state:\n",
    "            lats[addr] = np.nan\n",
    "            lons[addr] = np.nan\n",
    "        time.sleep(10)\n",
    "        error_state = True\n",
    "        pass"
   ]
  },
  {
   "cell_type": "code",
   "execution_count": 53,
   "metadata": {},
   "outputs": [],
   "source": [
    "df[\"lat\"] = lats.values()\n",
    "df[\"lon\"] = lons.values()"
   ]
  },
  {
   "cell_type": "code",
   "execution_count": 56,
   "metadata": {},
   "outputs": [],
   "source": [
    "df = df.drop([\"serial_number\"], axis = 1)"
   ]
  },
  {
   "cell_type": "code",
   "execution_count": 58,
   "metadata": {},
   "outputs": [],
   "source": [
    "df.to_csv(\"data/index_geocode.csv\", index = False)"
   ]
  },
  {
   "cell_type": "code",
   "execution_count": 42,
   "metadata": {},
   "outputs": [
    {
     "data": {
      "text/plain": [
       "{'23 Dartmouth St, Boston, MA 02116': 42.3436982,\n",
       " '28 Paris St, Boston, MA 02128': 42.37005765,\n",
       " '62 Northampton St, Boston, MA 02118': 42.3345882,\n",
       " '2 Silber Way, Boston, MA 02215': 42.3496261,\n",
       " '39 Boylston StBoston, MA 02116': nan,\n",
       " '1411 Tremont Street, Boston, MA 02120-3401': 42.331512101448745,\n",
       " '1340 Boylston Street, Boston, MA 02215\\r': 42.34419441669825,\n",
       " '780 Albany Street, Boston, MA 02118': 42.333645250000004,\n",
       " '260 Washington Street, Dorchester': 42.30137508166628,\n",
       " '300 Longwood Ave, Boston, MA 02115': 42.3376838,\n",
       " '1000 Washington St Ste 310, Boston, MA 02118': None,\n",
       " '85 E Newton St, Boston, MA 02118': None}"
      ]
     },
     "execution_count": 42,
     "metadata": {},
     "output_type": "execute_result"
    }
   ],
   "source": [
    "lats"
   ]
  },
  {
   "cell_type": "code",
   "execution_count": 46,
   "metadata": {},
   "outputs": [
    {
     "data": {
      "text/plain": [
       "{'23 Dartmouth St, Boston, MA 02116': -71.0740189,\n",
       " '28 Paris St, Boston, MA 02128': -71.04019203482005,\n",
       " '62 Northampton St, Boston, MA 02118': -71.0760592,\n",
       " '2 Silber Way, Boston, MA 02215': -71.1005877,\n",
       " '39 Boylston StBoston, MA 02116': nan,\n",
       " '1411 Tremont Street, Boston, MA 02120-3401': -71.09576374709611,\n",
       " '1340 Boylston Street, Boston, MA 02215\\r': -71.09886675508208,\n",
       " '780 Albany Street, Boston, MA 02118': -71.07279114401811,\n",
       " '260 Washington Street, Dorchester': -71.07654219589129,\n",
       " '300 Longwood Ave, Boston, MA 02115': -71.1045659,\n",
       " '1000 Washington St Ste 310, Boston, MA 02118': None,\n",
       " '85 E Newton St, Boston, MA 02118': None}"
      ]
     },
     "execution_count": 46,
     "metadata": {},
     "output_type": "execute_result"
    }
   ],
   "source": [
    "lons"
   ]
  }
 ],
 "metadata": {
  "kernelspec": {
   "display_name": "Python 3",
   "language": "python",
   "name": "python3"
  },
  "language_info": {
   "codemirror_mode": {
    "name": "ipython",
    "version": 3
   },
   "file_extension": ".py",
   "mimetype": "text/x-python",
   "name": "python",
   "nbconvert_exporter": "python",
   "pygments_lexer": "ipython3",
   "version": "3.10.0"
  },
  "orig_nbformat": 4,
  "vscode": {
   "interpreter": {
    "hash": "edf538992e43f80289175ea28b2a5d9a6257efbd1bc269c92d0eb4fc0f75a1bc"
   }
  }
 },
 "nbformat": 4,
 "nbformat_minor": 2
}
