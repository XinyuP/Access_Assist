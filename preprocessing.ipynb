{
 "cells": [
  {
   "cell_type": "code",
   "execution_count": 1,
   "metadata": {},
   "outputs": [],
   "source": [
    "import pandas as pd\n",
    "import numpy as np\n",
    "\n",
    "from matplotlib import pyplot as plt\n",
    "import seaborn as sns\n",
    "sns.set_palette(sns.color_palette(\"Spectral\"))\n",
    "sns.set_style(\"darkgrid\")\n",
    "\n",
    "import matplotlib as mpl\n",
    "mpl.rcParams['figure.dpi'] = 200\n",
    "mpl.rcParams[\"axes.labelsize\"] = 15\n",
    "pd.set_option('display.max_columns', 999)\n",
    "\n",
    "import time"
   ]
  },
  {
   "cell_type": "code",
   "execution_count": 2,
   "metadata": {},
   "outputs": [],
   "source": [
    "df = pd.read_csv(\"data/index.csv\")"
   ]
  },
  {
   "cell_type": "code",
   "execution_count": 3,
   "metadata": {},
   "outputs": [],
   "source": [
    "df[\"address\"]\n",
    "\n",
    "from geopy.geocoders import Nominatim\n",
    "\n",
    "# create a Nominatim object\n",
    "geolocator = Nominatim(user_agent=\"AccessAssist2\")\n"
   ]
  },
  {
   "cell_type": "code",
   "execution_count": 39,
   "metadata": {},
   "outputs": [],
   "source": [
    "# Janky ass shit because nomatim is limiting api calls\n",
    "lats = {i:None for i in df[\"address\"].values}\n",
    "lons = {i:None for i in df[\"address\"].values}"
   ]
  },
  {
   "cell_type": "code",
   "execution_count": 47,
   "metadata": {},
   "outputs": [
    {
     "name": "stdout",
     "output_type": "stream",
     "text": [
      "1000 Washington St Ste 310, Boston, MA 02118\n",
      "1000 Washington St Ste 310, Boston, MA 02118\n",
      "85 E Newton St, Boston, MA 02118\n",
      "addr returned\n"
     ]
    }
   ],
   "source": [
    "def get_lat_lon(address: str):\n",
    "    location = geolocator.geocode(address)\n",
    "    time.sleep(1)\n",
    "    if location == None:\n",
    "        return [np.nan, np.nan]\n",
    "    return [location.latitude, location.longitude]\n",
    "\n",
    "error_state = False\n",
    "\n",
    "while None in lats.values():\n",
    "    try:\n",
    "        for addr in lats:\n",
    "            if lats[addr] == None:\n",
    "                coords = get_lat_lon(addr)\n",
    "                lats[addr] = coords[0]\n",
    "                lons[addr] = coords[1]\n",
    "                error_state = False\n",
    "    except TimeoutError:\n",
    "        if error_state:\n",
    "            lats[addr] = np.nan\n",
    "            lons[addr] = np.nan\n",
    "        time.sleep(10)\n",
    "        error_state = True\n",
    "        pass"
   ]
  },
  {
   "cell_type": "code",
   "execution_count": 53,
   "metadata": {},
   "outputs": [],
   "source": [
    "df[\"lat\"] = lats.values()\n",
    "df[\"lon\"] = lons.values()"
   ]
  },
  {
   "cell_type": "code",
   "execution_count": 56,
   "metadata": {},
   "outputs": [],
   "source": [
    "df = df.drop([\"serial_number\"], axis = 1)"
   ]
  },
  {
   "cell_type": "code",
   "execution_count": 58,
   "metadata": {},
   "outputs": [],
   "source": [
    "df.to_csv(\"data/index_geocode.csv\", index = False)"
   ]
  },
  {
   "cell_type": "code",
   "execution_count": 4,
   "metadata": {},
   "outputs": [],
   "source": [
    "df = pd.read_csv(\"data/index_geocode.csv\")"
   ]
  },
  {
   "cell_type": "code",
   "execution_count": 8,
   "metadata": {},
   "outputs": [
    {
     "data": {
      "text/plain": [
       "42.34009843331777"
      ]
     },
     "execution_count": 8,
     "metadata": {},
     "output_type": "execute_result"
    }
   ],
   "source": [
    "df[\"lat\"].mean()"
   ]
  },
  {
   "cell_type": "code",
   "execution_count": 18,
   "metadata": {},
   "outputs": [
    {
     "data": {
      "text/html": [
       "<div>\n",
       "<style scoped>\n",
       "    .dataframe tbody tr th:only-of-type {\n",
       "        vertical-align: middle;\n",
       "    }\n",
       "\n",
       "    .dataframe tbody tr th {\n",
       "        vertical-align: top;\n",
       "    }\n",
       "\n",
       "    .dataframe thead th {\n",
       "        text-align: right;\n",
       "    }\n",
       "</style>\n",
       "<table border=\"1\" class=\"dataframe\">\n",
       "  <thead>\n",
       "    <tr style=\"text-align: right;\">\n",
       "      <th></th>\n",
       "      <th>program_name</th>\n",
       "      <th>program_type</th>\n",
       "      <th>address</th>\n",
       "      <th>Link</th>\n",
       "      <th>lat</th>\n",
       "      <th>lon</th>\n",
       "    </tr>\n",
       "  </thead>\n",
       "  <tbody>\n",
       "    <tr>\n",
       "      <th>0</th>\n",
       "      <td>Haley House</td>\n",
       "      <td>Food</td>\n",
       "      <td>23 Dartmouth St, Boston, MA 02116</td>\n",
       "      <td>https://haleyhouse.org/</td>\n",
       "      <td>42.343698</td>\n",
       "      <td>-71.074019</td>\n",
       "    </tr>\n",
       "    <tr>\n",
       "      <th>1</th>\n",
       "      <td>East Boston Community Soup</td>\n",
       "      <td>Food</td>\n",
       "      <td>28 Paris St, Boston, MA 02128</td>\n",
       "      <td>https://ebcsk.org/</td>\n",
       "      <td>42.370058</td>\n",
       "      <td>-71.040192</td>\n",
       "    </tr>\n",
       "    <tr>\n",
       "      <th>2</th>\n",
       "      <td>Boston HERC</td>\n",
       "      <td>Education</td>\n",
       "      <td>62 Northampton St, Boston, MA 02118</td>\n",
       "      <td>https://www.bostonherc.org/mission-and-values/</td>\n",
       "      <td>42.334588</td>\n",
       "      <td>-71.076059</td>\n",
       "    </tr>\n",
       "    <tr>\n",
       "      <th>3</th>\n",
       "      <td>Boston University Upward Bound</td>\n",
       "      <td>Education</td>\n",
       "      <td>2 Silber Way, Boston, MA 02215</td>\n",
       "      <td>https://www.bu.edu/ub/</td>\n",
       "      <td>42.349626</td>\n",
       "      <td>-71.100588</td>\n",
       "    </tr>\n",
       "    <tr>\n",
       "      <th>4</th>\n",
       "      <td>St. Francis House</td>\n",
       "      <td>Shelter</td>\n",
       "      <td>39 Boylston StBoston, MA 02116</td>\n",
       "      <td>https://stfrancishouse.org/</td>\n",
       "      <td>42.352518</td>\n",
       "      <td>-71.063523</td>\n",
       "    </tr>\n",
       "    <tr>\n",
       "      <th>5</th>\n",
       "      <td>HomeBase</td>\n",
       "      <td>Shelter</td>\n",
       "      <td>1411 Tremont Street, Boston, MA 02120-3401</td>\n",
       "      <td>https://www.metrohousingboston.org/what-we-do/...</td>\n",
       "      <td>42.331512</td>\n",
       "      <td>-71.095764</td>\n",
       "    </tr>\n",
       "    <tr>\n",
       "      <th>6</th>\n",
       "      <td>Fenway Health</td>\n",
       "      <td>Healthcare</td>\n",
       "      <td>1340 Boylston Street, Boston, MA 02215\\n</td>\n",
       "      <td>https://fenwayhealth.org/about/history/</td>\n",
       "      <td>42.344194</td>\n",
       "      <td>-71.098867</td>\n",
       "    </tr>\n",
       "    <tr>\n",
       "      <th>7</th>\n",
       "      <td>Boston Healthcare for the Homeless program</td>\n",
       "      <td>Healthcare</td>\n",
       "      <td>780 Albany Street, Boston, MA 02118</td>\n",
       "      <td>https://www.bhchp.org/</td>\n",
       "      <td>42.333645</td>\n",
       "      <td>-71.072791</td>\n",
       "    </tr>\n",
       "    <tr>\n",
       "      <th>8</th>\n",
       "      <td>Boston Breastfeeding</td>\n",
       "      <td>Maternal Support</td>\n",
       "      <td>260 Washington Street, Dorchester</td>\n",
       "      <td>https://bostonbreastfeeding.weebly.com/greater...</td>\n",
       "      <td>42.301375</td>\n",
       "      <td>-71.076542</td>\n",
       "    </tr>\n",
       "    <tr>\n",
       "      <th>9</th>\n",
       "      <td>Boston Children's Hospital Maternal Fetal Care</td>\n",
       "      <td>Maternal Support</td>\n",
       "      <td>300 Longwood Ave, Boston, MA 02115</td>\n",
       "      <td>https://www.childrenshospital.org/programs/mat...</td>\n",
       "      <td>42.337684</td>\n",
       "      <td>-71.104566</td>\n",
       "    </tr>\n",
       "    <tr>\n",
       "      <th>10</th>\n",
       "      <td>Massachusetts Behavioral Health Access (MABHA)</td>\n",
       "      <td>Mental Health</td>\n",
       "      <td>1000 Washington St Ste 310, Boston, MA 02118</td>\n",
       "      <td>https://www.mabhaccess.com/Home.aspx</td>\n",
       "      <td>42.346005</td>\n",
       "      <td>-71.064545</td>\n",
       "    </tr>\n",
       "    <tr>\n",
       "      <th>11</th>\n",
       "      <td>Solomon Carter Fuller Mental Health Center</td>\n",
       "      <td>Mental Health</td>\n",
       "      <td>85 E Newton St, Boston, MA 02118</td>\n",
       "      <td>https://www.mass.gov/locations/metro-boston-me...</td>\n",
       "      <td>42.336277</td>\n",
       "      <td>-71.070853</td>\n",
       "    </tr>\n",
       "  </tbody>\n",
       "</table>\n",
       "</div>"
      ],
      "text/plain": [
       "                                      program_name      program_type  \\\n",
       "0                                      Haley House              Food   \n",
       "1                       East Boston Community Soup              Food   \n",
       "2                                      Boston HERC         Education   \n",
       "3                   Boston University Upward Bound         Education   \n",
       "4                                St. Francis House           Shelter   \n",
       "5                                         HomeBase           Shelter   \n",
       "6                                    Fenway Health        Healthcare   \n",
       "7       Boston Healthcare for the Homeless program        Healthcare   \n",
       "8                            Boston Breastfeeding   Maternal Support   \n",
       "9   Boston Children's Hospital Maternal Fetal Care  Maternal Support   \n",
       "10  Massachusetts Behavioral Health Access (MABHA)     Mental Health   \n",
       "11      Solomon Carter Fuller Mental Health Center     Mental Health   \n",
       "\n",
       "                                         address  \\\n",
       "0              23 Dartmouth St, Boston, MA 02116   \n",
       "1                  28 Paris St, Boston, MA 02128   \n",
       "2            62 Northampton St, Boston, MA 02118   \n",
       "3                 2 Silber Way, Boston, MA 02215   \n",
       "4                 39 Boylston StBoston, MA 02116   \n",
       "5     1411 Tremont Street, Boston, MA 02120-3401   \n",
       "6       1340 Boylston Street, Boston, MA 02215\\n   \n",
       "7            780 Albany Street, Boston, MA 02118   \n",
       "8              260 Washington Street, Dorchester   \n",
       "9             300 Longwood Ave, Boston, MA 02115   \n",
       "10  1000 Washington St Ste 310, Boston, MA 02118   \n",
       "11              85 E Newton St, Boston, MA 02118   \n",
       "\n",
       "                                                 Link        lat        lon  \n",
       "0                             https://haleyhouse.org/  42.343698 -71.074019  \n",
       "1                                  https://ebcsk.org/  42.370058 -71.040192  \n",
       "2      https://www.bostonherc.org/mission-and-values/  42.334588 -71.076059  \n",
       "3                              https://www.bu.edu/ub/  42.349626 -71.100588  \n",
       "4                         https://stfrancishouse.org/  42.352518 -71.063523  \n",
       "5   https://www.metrohousingboston.org/what-we-do/...  42.331512 -71.095764  \n",
       "6             https://fenwayhealth.org/about/history/  42.344194 -71.098867  \n",
       "7                              https://www.bhchp.org/  42.333645 -71.072791  \n",
       "8   https://bostonbreastfeeding.weebly.com/greater...  42.301375 -71.076542  \n",
       "9   https://www.childrenshospital.org/programs/mat...  42.337684 -71.104566  \n",
       "10               https://www.mabhaccess.com/Home.aspx  42.346005 -71.064545  \n",
       "11  https://www.mass.gov/locations/metro-boston-me...  42.336277 -71.070853  "
      ]
     },
     "execution_count": 18,
     "metadata": {},
     "output_type": "execute_result"
    }
   ],
   "source": [
    "df"
   ]
  },
  {
   "cell_type": "code",
   "execution_count": 19,
   "metadata": {},
   "outputs": [
    {
     "data": {
      "text/plain": [
       "[(42.3436982, -71.0740189, 'Haley House'),\n",
       " (42.37005765, -71.04019203482005, 'East Boston Community Soup'),\n",
       " (42.3345882, -71.0760592, 'Boston HERC'),\n",
       " (42.3496261, -71.1005877, 'Boston University Upward Bound'),\n",
       " (42.352518, -71.0635227, 'St. Francis House'),\n",
       " (42.331512101448745, -71.09576374709611, 'HomeBase'),\n",
       " (42.34419441669825, -71.09886675508208, 'Fenway Health'),\n",
       " (42.33364525,\n",
       "  -71.07279114401811,\n",
       "  'Boston Healthcare for the Homeless program'),\n",
       " (42.30137508166628, -71.07654219589129, 'Boston Breastfeeding '),\n",
       " (42.3376838, -71.1045659, \"Boston Children's Hospital Maternal Fetal Care\"),\n",
       " (42.3460053, -71.0645453, 'Massachusetts Behavioral Health Access (MABHA)'),\n",
       " (42.3362771,\n",
       "  -71.07085295687423,\n",
       "  'Solomon Carter Fuller Mental Health Center')]"
      ]
     },
     "execution_count": 19,
     "metadata": {},
     "output_type": "execute_result"
    }
   ],
   "source": [
    "list(zip(list(df[\"lat\"]), list(df[\"lon\"]), list(df[\"program_name\"])))\n"
   ]
  }
 ],
 "metadata": {
  "kernelspec": {
   "display_name": "Python 3",
   "language": "python",
   "name": "python3"
  },
  "language_info": {
   "codemirror_mode": {
    "name": "ipython",
    "version": 3
   },
   "file_extension": ".py",
   "mimetype": "text/x-python",
   "name": "python",
   "nbconvert_exporter": "python",
   "pygments_lexer": "ipython3",
   "version": "3.10.0"
  },
  "orig_nbformat": 4,
  "vscode": {
   "interpreter": {
    "hash": "edf538992e43f80289175ea28b2a5d9a6257efbd1bc269c92d0eb4fc0f75a1bc"
   }
  }
 },
 "nbformat": 4,
 "nbformat_minor": 2
}
